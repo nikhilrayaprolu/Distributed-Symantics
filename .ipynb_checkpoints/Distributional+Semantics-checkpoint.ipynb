{
 "cells": [
  {
   "cell_type": "code",
   "execution_count": 1,
   "metadata": {},
   "outputs": [],
   "source": [
    "import io\n",
    "def get_unigrams(file_name):\n",
    "    unigrams = {}\n",
    "    with io.open(file_name, encoding='utf8', errors='ignore') as f:\n",
    "        for line in f:\n",
    "            tokens = line.strip().split()\n",
    "            for token in tokens:\n",
    "                token = token.lower()\n",
    "                try:\n",
    "                    unigrams[token]\n",
    "                except:\n",
    "                    unigrams[token] = 0\n",
    "                unigrams[token] += 1\n",
    "                \n",
    "    return unigrams\n",
    "\n",
    "def index_unigrams(unigrams):\n",
    "    new_unigrams = {}\n",
    "    reverse_unigrams = {}\n",
    "    for index, unigram in enumerate(unigrams):\n",
    "        new_unigrams[unigram] = index\n",
    "        reverse_unigrams[index] = unigram\n",
    "    return new_unigrams, reverse_unigrams\n",
    "            "
   ]
  },
  {
   "cell_type": "code",
   "execution_count": 41,
   "metadata": {
    "collapsed": true
   },
   "outputs": [],
   "source": [
    "file_name = \"sample_corpus.txt\"\n",
    "unigrams = get_unigrams(file_name)\n",
    "iunigrams,runigrams = index_unigrams(unigrams)\n",
    "unigrams = sorted(unigrams.items(), key = lambda x: x[1], reverse = True )\n",
    "from pprint import pprint\n",
    "#pprint.pprint(iunigrams) # Figure out non-stop words\n",
    "dimensions = [x[0] for x in unigrams[100:3100]]\n",
    "idimensions = {x: index for index, x in enumerate(dimensions)}\n",
    "#pprint(dimensions)\n",
    "\n"
   ]
  },
  {
   "cell_type": "code",
   "execution_count": 42,
   "metadata": {},
   "outputs": [
    {
     "name": "stdout",
     "output_type": "stream",
     "text": [
      "(27722, 3000)\n"
     ]
    }
   ],
   "source": [
    "import numpy\n",
    "cmatrix = numpy.memmap(\"lsa.cmatrix\", dtype='float32', mode='w+', shape=(len(unigrams),len(dimensions)))\n",
    "print(cmatrix.shape)"
   ]
  },
  {
   "cell_type": "code",
   "execution_count": 43,
   "metadata": {
    "collapsed": true
   },
   "outputs": [],
   "source": [
    "def populate_cmatrix(file_name, cmatrix, iunigrams, dimensions, window = 5):\n",
    "     e = 0\n",
    "     s = 0\n",
    "     with open(file_name, encoding='utf-8', errors='ignore') as f:\n",
    "        for index, line in enumerate(f):             \n",
    "            tokens = line.strip().split()\n",
    "            for indexj, token in enumerate(tokens):\n",
    "                token = token.lower()\n",
    "                lcontext = tokens[indexj - window:indexj]\n",
    "                rcontext = tokens[indexj + 1:index + window]\n",
    "                context = [tok.lower() for tok in lcontext + rcontext]\n",
    "                \n",
    "                try:\n",
    "                    unigram_index = iunigrams[token]                    \n",
    "                    for d in context:\n",
    "                        \n",
    "                        if d in dimensions:\n",
    "                            j = dimensions[d]\n",
    "                            cmatrix[unigram_index][j] += 1 \n",
    "                            s += 1\n",
    "                except:\n",
    "                    e += 1\n",
    "            \n",
    "            \n",
    "     print(e,s)\n",
    "                \n",
    "                "
   ]
  },
  {
   "cell_type": "code",
   "execution_count": 44,
   "metadata": {},
   "outputs": [
    {
     "name": "stdout",
     "output_type": "stream",
     "text": [
      "0 2428775\n",
      "37.79141712188721\n"
     ]
    }
   ],
   "source": [
    "from time import time\n",
    "s = time()\n",
    "populate_cmatrix(file_name, cmatrix, iunigrams, idimensions)\n",
    "e = time()\n",
    "print(e -s)"
   ]
  },
  {
   "cell_type": "code",
   "execution_count": 47,
   "metadata": {},
   "outputs": [
    {
     "name": "stdout",
     "output_type": "stream",
     "text": [
      "16770 25132 25302\n",
      "[ 0.  0.  8. ...,  0.  0.  0.] [ 0.  0.  1. ...,  0.  1.  0.] [ 0.  0.  0. ...,  0.  0.  0.]\n",
      "27.073972702026367\n",
      "0.809358254075\n",
      "0.958748567849\n"
     ]
    }
   ],
   "source": [
    "w1 = 'eat'\n",
    "w2 = 'drink'\n",
    "w3 = 'print'\n",
    "id1 = iunigrams[w1]\n",
    "id2 = iunigrams[w2]\n",
    "id3 = iunigrams[w3]\n",
    "print(id1, id2, id3)\n",
    "v1 = cmatrix[id1]\n",
    "v2 = cmatrix[id2]\n",
    "v3 = cmatrix[id3]\n",
    "\n",
    "print(v1, v2, v3)\n",
    "\n",
    "from scipy.spatial.distance import *\n",
    "print(euclidean(v1, v2))\n",
    "print(cosine(v1,v2))\n",
    "print(cosine(v1,v3))"
   ]
  },
  {
   "cell_type": "code",
   "execution_count": 48,
   "metadata": {},
   "outputs": [
    {
     "name": "stdout",
     "output_type": "stream",
     "text": [
      "4.884415149688721\n"
     ]
    }
   ],
   "source": [
    "from sklearn.decomposition import TruncatedSVD\n",
    "s = time()\n",
    "svd = TruncatedSVD(n_components=5, random_state=42)\n",
    "svd.fit(cmatrix)\n",
    "twod_cmatrix = svd.transform(cmatrix)\n",
    "e = time()\n",
    "print(e - s )"
   ]
  },
  {
   "cell_type": "code",
   "execution_count": 50,
   "metadata": {},
   "outputs": [
    {
     "name": "stdout",
     "output_type": "stream",
     "text": [
      "[ 5.40724897 -0.94469124  0.64842522 -4.79632425 -0.36615989] [ 2.28808188 -0.41545004  0.12711847 -1.66689384  0.1082939 ] [ 7.33332634  0.18931478  1.50755572 -2.66190171  2.57689524]\n",
      "0.00943946838379 0.146141171455\n"
     ]
    }
   ],
   "source": [
    "v1_2d, v2_2d = twod_cmatrix[id1], twod_cmatrix[id2]\n",
    "id3 = iunigrams[w3]\n",
    "v3_2d = twod_cmatrix[id3]\n",
    "print(v1_2d, v2_2d, v3_2d)\n",
    "print(cosine(v1_2d, v2_2d), cosine(v1_2d, v3_2d))"
   ]
  },
  {
   "cell_type": "code",
   "execution_count": 51,
   "metadata": {},
   "outputs": [
    {
     "name": "stdout",
     "output_type": "stream",
     "text": [
      "Populating the interactive namespace from numpy and matplotlib\n",
      "[array([ 0.73795438, -0.12892675,  0.08849384, -0.65457839, -0.04997167], dtype=float32), array([ 0.79833513, -0.14495476,  0.04435293, -0.58159626,  0.03778484], dtype=float32), array([ 0.87767738,  0.02265784,  0.18042938, -0.31858543,  0.30841157], dtype=float32)]\n"
     ]
    },
    {
     "name": "stderr",
     "output_type": "stream",
     "text": [
      "/home/nlpta/env/lib/python3.4/site-packages/IPython/core/magics/pylab.py:160: UserWarning: pylab import has clobbered these variables: ['colors', 'hamming', 'e', 'svd']\n",
      "`%matplotlib` prevents importing * from pylab and numpy\n",
      "  \"\\n`%matplotlib` prevents importing * from pylab and numpy\"\n"
     ]
    },
    {
     "data": {
      "image/png": "[encoded data removed]",
      "text/plain": [
       "<matplotlib.figure.Figure at 0x7f777cf2f128>"
      ]
     },
     "metadata": {},
     "output_type": "display_data"
    }
   ],
   "source": [
    "%pylab inline\n",
    "import matplotlib.pyplot as plt\n",
    "v1_2d = v1_2d / numpy.linalg.norm(v1_2d)\n",
    "v2_2d = v2_2d / numpy.linalg.norm(v2_2d)\n",
    "v3_2d = v3_2d / numpy.linalg.norm(v3_2d)\n",
    "print ([v1_2d, v2_2d,v3_2d])\n",
    "colors = ['r','b','g']\n",
    "fig, axs = plt.subplots(1,1)\n",
    "for i, x in enumerate([v1_2d, v2_2d,v3_2d]):\n",
    "    a = plt.plot([0,x[0]],[0,x[1]],colors[i]+'-')\n",
    "plt.show()"
   ]
  },
  {
   "cell_type": "code",
   "execution_count": null,
   "metadata": {
    "collapsed": true
   },
   "outputs": [],
   "source": []
  },
  {
   "cell_type": "code",
   "execution_count": null,
   "metadata": {},
   "outputs": [],
   "source": []
  },
  {
   "cell_type": "code",
   "execution_count": null,
   "metadata": {
    "collapsed": true
   },
   "outputs": [],
   "source": []
  },
  {
   "cell_type": "code",
   "execution_count": null,
   "metadata": {
    "collapsed": true
   },
   "outputs": [],
   "source": []
  },
  {
   "cell_type": "code",
   "execution_count": null,
   "metadata": {
    "collapsed": true
   },
   "outputs": [],
   "source": []
  }
 ],
 "metadata": {
  "kernelspec": {
   "display_name": "Python 2",
   "language": "python",
   "name": "python2"
  },
  "language_info": {
   "codemirror_mode": {
    "name": "ipython",
    "version": 2
   },
   "file_extension": ".py",
   "mimetype": "text/x-python",
   "name": "python",
   "nbconvert_exporter": "python",
   "pygments_lexer": "ipython2",
   "version": "2.7.12"
  }
 },
 "nbformat": 4,
 "nbformat_minor": 1
}
