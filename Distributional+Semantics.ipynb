{
 "cells": [
  {
   "cell_type": "code",
   "execution_count": 150,
   "metadata": {},
   "outputs": [],
   "source": [
    "import io\n",
    "import nltk\n",
    "def get_unigrams(file_name):\n",
    "    unigrams = {}\n",
    "    with io.open(file_name, encoding='utf8', errors='ignore') as f:\n",
    "        for line in f:\n",
    "            tokens = line.strip().split()\n",
    "            \n",
    "            \n",
    "            for token in tokens:\n",
    "                token = token.lower()\n",
    "                try:\n",
    "                    unigrams[token]\n",
    "                except:\n",
    "                    unigrams[token] = 0\n",
    "                unigrams[token] += 1\n",
    "                \n",
    "           \n",
    "    return unigrams\n",
    "\n",
    "def index_unigrams(unigrams):\n",
    "    new_unigrams = {}\n",
    "    reverse_unigrams = {}\n",
    "    for index, unigram in enumerate(unigrams):\n",
    "        new_unigrams[unigram] = index\n",
    "        reverse_unigrams[index] = unigram\n",
    "    return new_unigrams, reverse_unigrams\n",
    "            \n"
   ]
  },
  {
   "cell_type": "code",
   "execution_count": 152,
   "metadata": {},
   "outputs": [],
   "source": [
    "file_name = \"sample_corpus.txt\"\n",
    "\n",
    "unigrams = get_unigrams(file_name)\n",
    "vocab_size=len(unigrams)\n",
    "\n",
    "#Tag first 5000 sentences\n",
    "\n",
    "iunigrams,runigrams = index_unigrams(unigrams)\n",
    "#iunigrams->Input-word output output->index\n",
    "#runigrams->input=index output->word\n",
    "#print(pos_tags['is'])\n",
    "unigrams = sorted(unigrams.items(), key = lambda x: x[1], reverse = True )\n",
    "from pprint import pprint\n",
    "\n",
    "\n",
    "#pprint.pprint(iunigrams) # Figure out non-stop words\n",
    "dimensions = [x[0] for x in unigrams[100:3100]] #Input->index output-> dimension field name\n",
    "\n",
    "idimensions = {x: index for index, x in enumerate(dimensions)} #Input->dimension field name output->index\n",
    "\n",
    "\n",
    "#For 1.2.3 update the dimensional matrix also such that only verbs are in the dimensional array\n",
    "#Commnet the last 3 lines part if this is not 1.2.3\n",
    "\n"
   ]
  },
  {
   "cell_type": "code",
   "execution_count": 153,
   "metadata": {},
   "outputs": [
    {
     "name": "stdout",
     "output_type": "stream",
     "text": [
      "(43124, 3000)\n"
     ]
    }
   ],
   "source": [
    "import numpy\n",
    "cmatrix = numpy.memmap(\"lsa.cmatrix\", dtype='float32', mode='w+', shape=(len(unigrams),len(dimensions)))\n",
    "print(cmatrix.shape)"
   ]
  },
  {
   "cell_type": "code",
   "execution_count": 154,
   "metadata": {},
   "outputs": [],
   "source": [
    "def populate_cmatrix(file_name, cmatrix, iunigrams, dimensions, window = 5):\n",
    "     e = 0\n",
    "     s = 0\n",
    "     with open(file_name, encoding='utf-8', errors='ignore') as f:\n",
    "        for index, line in enumerate(f):             \n",
    "            tokens = line.strip().split()\n",
    "            for indexj, token in enumerate(tokens):\n",
    "                token = token.lower()\n",
    "                lcontext = tokens[indexj - window:indexj]\n",
    "                rcontext = tokens[indexj + 1:index + window]\n",
    "                context = [tok.lower() for tok in lcontext + rcontext]\n",
    "                \n",
    "                try:\n",
    "                    unigram_index = iunigrams[token]                    \n",
    "                    for d in context:\n",
    "                        \n",
    "                        if d in dimensions:\n",
    "                            j = dimensions[d]\n",
    "                            cmatrix[unigram_index][j] += 1 \n",
    "                            s += 1\n",
    "                except:\n",
    "                    e += 1\n",
    "            \n",
    "            \n",
    "     print(e,s)\n",
    "\n",
    "#For 1.2.2 considering the total dimension size=3000 \n",
    "def populate_cmatrix1(file_name, cmatrix, iunigrams, dimensions, window = 2):\n",
    "     e = 0\n",
    "     s = 0\n",
    "     with open(file_name, encoding='utf-8', errors='ignore') as f:\n",
    "        for index, line in enumerate(f):             \n",
    "            tokens = line.strip().split()\n",
    "            for indexj, token in enumerate(tokens):\n",
    "                token = token.lower()\n",
    "                lcontext = tokens[indexj - window:indexj]\n",
    "                rcontext = tokens[indexj + 1:index + window]\n",
    "                context = [tok.lower() for tok in lcontext ]\n",
    "                \n",
    "                try:\n",
    "                    unigram_index = iunigrams[token]                    \n",
    "                    for d in context:\n",
    "                        \n",
    "                        if d in dimensions[:1500]:\n",
    "                            j = dimensions[d]\n",
    "                            cmatrix[unigram_index][j] += 1 \n",
    "                            s += 1\n",
    "                except:\n",
    "                    e += 1\n",
    "                context = [tok.lower() for tok in rcontext ]\n",
    "                \n",
    "                try:\n",
    "                    unigram_index = iunigrams[token]                    \n",
    "                    for d in context:\n",
    "                        \n",
    "                        if d in dimensions[1500:3000]:\n",
    "                            j = dimensions[d]\n",
    "                            cmatrix[unigram_index][j] += 1 \n",
    "                            s += 1\n",
    "                except:\n",
    "                    e += 1\n",
    "            \n",
    "            \n",
    "     print(e,s)\n",
    "                \n",
    "                "
   ]
  },
  {
   "cell_type": "code",
   "execution_count": 155,
   "metadata": {},
   "outputs": [
    {
     "name": "stdout",
     "output_type": "stream",
     "text": [
      "0 4459162\n",
      "28.54332447052002\n"
     ]
    }
   ],
   "source": [
    "from time import time\n",
    "s = time()\n",
    "populate_cmatrix(file_name, cmatrix, iunigrams, idimensions)\n",
    "e = time()\n",
    "print(e -s)"
   ]
  },
  {
   "cell_type": "code",
   "execution_count": 156,
   "metadata": {},
   "outputs": [
    {
     "name": "stdout",
     "output_type": "stream",
     "text": [
      "4330 14646 41476\n",
      "[ 0.  0.  0. ...,  0.  0.  0.] [ 0.  0.  1. ...,  0.  0.  0.] [ 0.  0.  0. ...,  0.  0.  0.]\n",
      "18.947296142578125\n",
      "0.819242849946\n",
      "0.926176697016\n"
     ]
    }
   ],
   "source": [
    "w1 = 'eat'\n",
    "w2 = 'drink'\n",
    "w3 = 'print'\n",
    "id1 = iunigrams[w1]\n",
    "id2 = iunigrams[w2]\n",
    "id3 = iunigrams[w3]\n",
    "print(id1, id2, id3)\n",
    "v1 = cmatrix[id1]\n",
    "v2 = cmatrix[id2]\n",
    "v3 = cmatrix[id3]\n",
    "\n",
    "print(v1, v2, v3)\n",
    "\n",
    "from scipy.spatial.distance import *\n",
    "print(euclidean(v1, v2))\n",
    "print(cosine(v1,v2))\n",
    "print(cosine(v1,v3))"
   ]
  },
  {
   "cell_type": "code",
   "execution_count": 157,
   "metadata": {},
   "outputs": [
    {
     "name": "stdout",
     "output_type": "stream",
     "text": [
      "8.972512483596802\n"
     ]
    }
   ],
   "source": [
    "from sklearn.decomposition import TruncatedSVD\n",
    "s = time()\n",
    "svd = TruncatedSVD(n_components=100, random_state=42)\n",
    "svd.fit(cmatrix)\n",
    "twod_cmatrix = svd.transform(cmatrix)\n",
    "e = time()\n",
    "print(e - s )"
   ]
  },
  {
   "cell_type": "code",
   "execution_count": 169,
   "metadata": {},
   "outputs": [
    {
     "name": "stdout",
     "output_type": "stream",
     "text": [
      "For  0\n",
      "42714\n",
      "For  1\n",
      "1\n",
      "For  2\n",
      "1\n",
      "For  3\n",
      "1\n",
      "For  4\n",
      "2\n",
      "For  5\n",
      "1\n",
      "For  6\n",
      "3\n",
      "For  7\n",
      "1\n",
      "For  8\n",
      "2\n",
      "For  9\n",
      "7\n",
      "For  10\n",
      "2\n",
      "For  11\n",
      "31\n",
      "For  12\n",
      "1\n",
      "For  13\n",
      "2\n",
      "For  14\n",
      "15\n",
      "For  15\n",
      "1\n",
      "For  16\n",
      "8\n",
      "For  17\n",
      "29\n",
      "For  18\n",
      "299\n",
      "For  19\n",
      "3\n"
     ]
    }
   ],
   "source": [
    "#For part 2.1\n",
    "from sklearn.cluster import KMeans\n",
    "kmeans = KMeans(n_clusters=20, random_state=34).fit(twod_cmatrix)\n",
    "count={}\n",
    "for x in kmeans.labels_:\n",
    "    if x in count:\n",
    "        count[x]+=1\n",
    "    else:\n",
    "        count[x]=1\n",
    "for x in range(20):\n",
    "    print(\"For \",x)\n",
    "    if x in count:\n",
    "        print(count[x])"
   ]
  },
  {
   "cell_type": "code",
   "execution_count": 149,
   "metadata": {},
   "outputs": [
    {
     "name": "stdout",
     "output_type": "stream",
     "text": [
      "[  5.57798862e+00  -7.79794812e-01  -1.59795880e-01   2.87500715e+00\n",
      "  -6.09497011e-01   1.53511298e+00  -8.23319703e-03  -6.33508742e-01\n",
      "  -5.77176027e-02   2.40408868e-01  -1.04503679e+00   5.09238601e-01\n",
      "   4.79120463e-01  -8.08255374e-01  -1.73826702e-02  -6.25795364e-01\n",
      "   2.75382027e-02   5.75721383e-01   4.70615715e-01   2.60079324e-01\n",
      "  -4.91318136e-01  -2.50094056e-01  -4.48523641e-01  -4.03545052e-03\n",
      "  -1.22169591e-01   5.57961501e-02   2.13575721e-01  -9.33021009e-01\n",
      "  -3.28391910e-01  -5.70616364e-01  -1.75434172e-01   5.64612329e-01\n",
      "  -4.28558946e-01   2.87715167e-01   3.03842574e-02   7.02139974e-01\n",
      "   2.48026699e-01  -4.34328258e-01   9.53170732e-02  -1.79223165e-01\n",
      "   1.86955154e-01  -2.29990065e-01   1.57383457e-01   4.68376964e-01\n",
      "  -4.55537826e-01   1.39054388e-01  -1.93539798e-01   5.08847713e-01\n",
      "  -2.48114690e-01  -5.48668265e-01  -4.45635259e-01   1.95706278e-01\n",
      "   6.95523769e-02  -3.60947222e-01   2.15142250e-01   7.61966348e-01\n",
      "   3.27412248e-01   1.43805653e-01   4.43776131e-01   5.22903979e-01\n",
      "  -1.57594845e-01   1.07615344e-01  -4.56953853e-01  -7.09929019e-02\n",
      "  -3.74568373e-01  -1.91584527e-01   7.65995502e-01  -4.50100183e-01\n",
      "   2.97335684e-01   7.83693194e-01  -9.98966023e-02   1.14003845e-01\n",
      "  -2.15770468e-01   1.30969509e-01   3.97135079e-01   4.82579321e-02\n",
      "  -2.50250816e-01   6.11184955e-01   1.03157632e-01   3.83208930e-01\n",
      "  -4.60609406e-01   6.58849925e-02   1.62307173e-04  -2.08752170e-01\n",
      "   4.15163428e-01  -3.23178470e-01  -1.31249309e-01   2.10866332e-01\n",
      "   2.10086018e-01   1.61600649e-01  -8.29336420e-02  -8.85623172e-02\n",
      "  -1.85475990e-01   2.75007665e-01  -6.83040619e-01   1.74550235e-01\n",
      "  -4.16204661e-01  -2.39151388e-01  -2.38766205e-02  -4.21214730e-01] [  7.62520170e+00  -1.41912782e+00  -2.38357559e-01   2.96394855e-01\n",
      "  -1.27778068e-01   2.10818648e-01  -4.85271990e-01   8.28671753e-01\n",
      "   2.51327634e-01  -9.57336187e-01   2.35091329e+00   5.86082160e-01\n",
      "  -1.07061899e+00  -3.97607535e-01  -5.86423159e-01   8.38825554e-02\n",
      "   2.56740481e-01   3.73767018e-01   2.16298485e+00   1.02559745e+00\n",
      "   1.15772426e+00   2.09272102e-01   9.17083472e-02   1.46464527e+00\n",
      "   2.41727903e-01   3.28339219e-01  -4.81587827e-01  -7.78722912e-02\n",
      "  -2.59052992e-01   2.94514060e-01   5.30182242e-01  -8.08672011e-02\n",
      "   5.21161079e-01  -1.78392723e-01  -1.33120191e+00  -6.25730574e-01\n",
      "  -2.91387975e-01  -4.01657432e-01  -1.92518368e-01   5.44302702e-01\n",
      "   2.10995540e-01  -8.36604834e-02  -1.54123120e-02  -5.21089077e-01\n",
      "   2.59516716e-01   2.77441680e-01   1.93226442e-01  -4.92106825e-01\n",
      "   6.53941408e-02  -1.89320132e-01  -1.70772880e-01  -4.85220253e-01\n",
      "   4.74345505e-01  -3.12879503e-01   1.68203726e-01  -3.34738404e-01\n",
      "  -6.40869260e-01  -5.80283143e-02  -5.52644968e-01   6.54019892e-01\n",
      "   4.87242520e-01   1.49270445e-01   1.57805443e-01  -1.11236103e-01\n",
      "   2.48171359e-01  -5.40606499e-01  -4.06721324e-01  -1.77855015e-01\n",
      "  -2.16124207e-01   5.99976599e-01   3.82933438e-01  -4.84107226e-01\n",
      "  -1.91673428e-01   5.46106577e-01  -7.40262717e-02   1.39210522e-01\n",
      "   5.28364182e-01   3.90251070e-01  -8.54314417e-02   3.61842424e-01\n",
      "  -4.82906342e-01   7.31038302e-03  -9.74763855e-02  -2.44573295e-01\n",
      "  -2.08810270e-01   4.02556956e-01   5.43048322e-01   3.35510194e-01\n",
      "  -5.75914383e-02   1.87384695e-01  -2.20805556e-02   3.72544438e-01\n",
      "   2.78995246e-01  -1.95986241e-01   7.56309032e-01   9.29371640e-02\n",
      "  -5.84317803e-01   8.95644784e-01  -1.53807607e-02  -3.26619178e-01] [  1.05882959e+01   5.89046764e+00  -1.78286362e+00  -2.42432863e-01\n",
      "   2.09962517e-01   6.47222996e-01   3.04504108e+00  -2.95404315e-01\n",
      "  -9.52550054e-01  -3.25829089e-01  -1.00667167e+00   4.03331697e-01\n",
      "   6.90241873e-01  -9.35222507e-02  -4.69212234e-03   1.96563378e-02\n",
      "  -4.72123027e-01  -1.91476792e-02  -1.39734840e+00   3.86280417e-01\n",
      "   1.12939167e+00  -5.91375113e-01   6.66633129e-01  -2.51645088e-01\n",
      "  -3.41808423e-03  -8.02062303e-02   9.69288826e-01  -2.32868820e-01\n",
      "   5.39232075e-01  -2.72072613e-01   5.32128155e-01  -3.62380892e-01\n",
      "  -7.94807613e-01  -1.79552287e-02   6.05558991e-01   8.30985010e-01\n",
      "  -1.28912494e-01   1.45086622e+00   1.01044250e+00   1.00368604e-01\n",
      "   9.36365187e-01   1.73858985e-01   9.32142138e-04  -1.09026372e+00\n",
      "   2.55111098e-01   3.75261903e-02  -7.45816946e-01   9.23372746e-01\n",
      "   1.50533214e-01   7.78072774e-01   4.97351557e-01  -5.84669828e-01\n",
      "  -9.71028358e-02  -9.24274445e-01  -9.99648690e-01  -2.88382351e-01\n",
      "  -3.70155513e-01  -5.24180055e-01  -1.64729226e+00   1.39537483e-01\n",
      "   3.52612324e-03  -1.89749628e-01   2.50593185e-01   1.01933181e-01\n",
      "  -1.40197814e-01   1.06877670e-01   8.33353639e-01  -4.84185517e-01\n",
      "   3.99734616e-01  -1.92544371e-01   3.93290445e-02   9.41152275e-02\n",
      "  -1.32580042e+00  -9.39694822e-01   6.03040934e-01   5.24342656e-01\n",
      "   1.62442744e-01  -4.90852863e-01  -3.69953215e-02  -4.03951645e-01\n",
      "   3.28474641e-01   3.16970646e-01  -3.68726552e-02   1.10277675e-01\n",
      "  -2.64550954e-01  -2.64444321e-01  -5.12918353e-01  -1.30680174e-01\n",
      "   3.53972577e-02  -1.06831715e-01   3.15104216e-01  -2.43322909e-01\n",
      "   5.69171533e-02  -1.06884146e+00  -1.74322724e-01  -6.98052466e-01\n",
      "   4.59296137e-01   2.32288837e-02   1.66417271e-01  -2.79264748e-01]\n",
      "0.434836387634 0.479489028454\n",
      "Forboy\n"
     ]
    },
    {
     "name": "stderr",
     "output_type": "stream",
     "text": [
      "/home/imkaushik/.local/lib/python3.5/site-packages/scipy/spatial/distance.py:644: RuntimeWarning: invalid value encountered in float_scalars\n",
      "  dist = 1.0 - uv / np.sqrt(uu * vv)\n"
     ]
    },
    {
     "name": "stdout",
     "output_type": "stream",
     "text": [
      "boy\n",
      "hang\n",
      "sought\n",
      "daughter\n",
      "wood\n",
      "tenderly\n",
      "bonny\n",
      "hood\n",
      "saw\n",
      "fore\n",
      "robin\n",
      "\n",
      "\n",
      "\n",
      "Forsunday\n",
      "sunday\n",
      "june\n",
      "big\n",
      "months\n",
      "old\n",
      "read\n",
      "event\n",
      "see\n",
      "about\n",
      "'s\n",
      "lord\n",
      "\n",
      "\n",
      "\n",
      "Foreat\n",
      "eat\n",
      "talk\n",
      "see\n",
      "waiting\n",
      "try\n",
      "said\n",
      "sometimes\n",
      "says\n",
      "memory\n",
      "like\n",
      "band\n",
      "\n",
      "\n",
      "\n",
      "Forgood\n",
      "good\n",
      "but\n",
      "it\n",
      "while\n",
      "very\n",
      "so\n",
      "that\n",
      "too\n",
      "even\n",
      "something\n",
      "one\n",
      "\n",
      "\n",
      "\n",
      "Forslowly\n",
      "slowly\n",
      "21st\n",
      "radiator\n",
      "inaccurate\n",
      "capitalism\n",
      "captain\n",
      "1925\n",
      "built\n",
      "shift\n",
      "1990\n",
      "stressed\n",
      "\n",
      "\n",
      "\n",
      "For100\n",
      "100\n",
      "centimetres\n",
      "decimeter\n",
      "decimetres\n",
      "millimetres\n",
      "sq.\n",
      "ares\n",
      "decametre\n",
      "decametres\n",
      "centimetre\n",
      "hectometre\n",
      "\n",
      "\n",
      "\n"
     ]
    }
   ],
   "source": [
    "\n",
    "\n",
    "v1_2d, v2_2d = twod_cmatrix[id1], twod_cmatrix[id2]\n",
    "\n",
    "id3 = iunigrams[w3]\n",
    "v3_2d = twod_cmatrix[id3]\n",
    "print(v1_2d, v2_2d, v3_2d)\n",
    "print(cosine(v1_2d, v2_2d), cosine(v1_2d, v3_2d))\n",
    "\n",
    "#Word=boy\n",
    "for word in (['boy','sunday','eat','good','slowly','100']):\n",
    "    print(\"For\"+word) \n",
    "    \n",
    "    idx=iunigrams[word]\n",
    "    v=twod_cmatrix[idx]\n",
    "    val=[]\n",
    "    for i in range(vocab_size):\n",
    "        val.append(cosine(v,twod_cmatrix[i]))\n",
    "    val=np.array(val)\n",
    "    similar=(val.argsort()[:11])\n",
    "\n",
    "    #print(cosine(twod_cmatrix[iunigrams['boy']],twod_cmatrix[iunigrams['boy']]))\n",
    "    for i in similar:\n",
    "        print(runigrams[i])\n",
    "    \n",
    "    print(\"\\n\"+\"\\n\")\n",
    "    \n"
   ]
  },
  {
   "cell_type": "code",
   "execution_count": 37,
   "metadata": {},
   "outputs": [
    {
     "name": "stdout",
     "output_type": "stream",
     "text": [
      "Populating the interactive namespace from numpy and matplotlib\n",
      "[array([ 0.9686178 , -0.1163898 ,  0.20864812, -0.05970683, -0.03367364], dtype=float32), array([ 0.97843516, -0.12518713, -0.06744414, -0.13931867,  0.05508611], dtype=float32), array([ 0.96830696, -0.09162664,  0.00430138,  0.20521395, -0.10888018], dtype=float32)]\n"
     ]
    },
    {
     "name": "stderr",
     "output_type": "stream",
     "text": [
      "/home/imkaushik/.local/lib/python3.5/site-packages/IPython/core/magics/pylab.py:160: UserWarning: pylab import has clobbered these variables: ['colors']\n",
      "`%matplotlib` prevents importing * from pylab and numpy\n",
      "  \"\\n`%matplotlib` prevents importing * from pylab and numpy\"\n"
     ]
    },
    {
     "data": {
      "image/png": "[encoded data removed]",
      "text/plain": [
       "<matplotlib.figure.Figure at 0x7f1ddc0468d0>"
      ]
     },
     "metadata": {},
     "output_type": "display_data"
    }
   ],
   "source": [
    "%pylab inline\n",
    "import matplotlib.pyplot as plt\n",
    "v1_2d = v1_2d / numpy.linalg.norm(v1_2d)\n",
    "v2_2d = v2_2d / numpy.linalg.norm(v2_2d)\n",
    "v3_2d = v3_2d / numpy.linalg.norm(v3_2d)\n",
    "print ([v1_2d, v2_2d,v3_2d])\n",
    "colors = ['r','b','g']\n",
    "fig, axs = plt.subplots(1,1)\n",
    "for i, x in enumerate([v1_2d, v2_2d,v3_2d]):\n",
    "    a = plt.plot([0,x[0]],[0,x[1]],colors[i]+'-')\n",
    "plt.show()"
   ]
  },
  {
   "cell_type": "code",
   "execution_count": null,
   "metadata": {
    "collapsed": true
   },
   "outputs": [],
   "source": []
  },
  {
   "cell_type": "code",
   "execution_count": null,
   "metadata": {},
   "outputs": [],
   "source": []
  },
  {
   "cell_type": "code",
   "execution_count": null,
   "metadata": {
    "collapsed": true
   },
   "outputs": [],
   "source": []
  },
  {
   "cell_type": "code",
   "execution_count": null,
   "metadata": {
    "collapsed": true
   },
   "outputs": [],
   "source": []
  },
  {
   "cell_type": "code",
   "execution_count": null,
   "metadata": {
    "collapsed": true
   },
   "outputs": [],
   "source": []
  }
 ],
 "metadata": {
  "kernelspec": {
   "display_name": "Python 2",
   "language": "python",
   "name": "python2"
  },
  "language_info": {
   "codemirror_mode": {
    "name": "ipython",
    "version": 3
   },
   "file_extension": ".py",
   "mimetype": "text/x-python",
   "name": "python",
   "nbconvert_exporter": "python",
   "pygments_lexer": "ipython3",
   "version": "3.5.2"
  }
 },
 "nbformat": 4,
 "nbformat_minor": 1
}
